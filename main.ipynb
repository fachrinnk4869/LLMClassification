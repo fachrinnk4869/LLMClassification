{
 "cells": [
  {
   "cell_type": "markdown",
   "id": "54448cde",
   "metadata": {},
   "source": [
    "# Overview"
   ]
  },
  {
   "cell_type": "markdown",
   "id": "35347560",
   "metadata": {},
   "source": [
    "This competition challenges you to predict which responses users will prefer in a head-to-head battle between chatbots powered by large language models (LLMs). You'll be given a dataset of conversations from the Chatbot Arena, where different LLMs generate answers to user prompts. By developing a winning machine learning model, you'll help improve how chatbots interact with humans and ensure they better align with human preferences."
   ]
  },
  {
   "cell_type": "code",
   "execution_count": 1,
   "id": "5eafe99a",
   "metadata": {},
   "outputs": [],
   "source": [
    "import pandas as pd"
   ]
  },
  {
   "cell_type": "markdown",
   "id": "5e427407",
   "metadata": {},
   "source": [
    "### Load Data"
   ]
  },
  {
   "cell_type": "code",
   "execution_count": 2,
   "id": "0442349f",
   "metadata": {},
   "outputs": [],
   "source": [
    "train_data = pd.read_csv('data/train.csv')\n",
    "test_data = pd.read_csv('data/test.csv')"
   ]
  },
  {
   "cell_type": "code",
   "execution_count": 3,
   "id": "cf848a4b",
   "metadata": {},
   "outputs": [
    {
     "data": {
      "text/html": [
       "<div>\n",
       "<style scoped>\n",
       "    .dataframe tbody tr th:only-of-type {\n",
       "        vertical-align: middle;\n",
       "    }\n",
       "\n",
       "    .dataframe tbody tr th {\n",
       "        vertical-align: top;\n",
       "    }\n",
       "\n",
       "    .dataframe thead th {\n",
       "        text-align: right;\n",
       "    }\n",
       "</style>\n",
       "<table border=\"1\" class=\"dataframe\">\n",
       "  <thead>\n",
       "    <tr style=\"text-align: right;\">\n",
       "      <th></th>\n",
       "      <th>id</th>\n",
       "      <th>prompt</th>\n",
       "      <th>response_a</th>\n",
       "      <th>response_b</th>\n",
       "      <th>winner_model_a</th>\n",
       "      <th>winner_model_b</th>\n",
       "      <th>winner_tie</th>\n",
       "    </tr>\n",
       "  </thead>\n",
       "  <tbody>\n",
       "    <tr>\n",
       "      <th>0</th>\n",
       "      <td>30192</td>\n",
       "      <td>[\"Is it morally right to try to have a certain...</td>\n",
       "      <td>[\"The question of whether it is morally right ...</td>\n",
       "      <td>[\"As an AI, I don't have personal beliefs or o...</td>\n",
       "      <td>1</td>\n",
       "      <td>0</td>\n",
       "      <td>0</td>\n",
       "    </tr>\n",
       "    <tr>\n",
       "      <th>1</th>\n",
       "      <td>53567</td>\n",
       "      <td>[\"What is the difference between marriage lice...</td>\n",
       "      <td>[\"A marriage license is a legal document that ...</td>\n",
       "      <td>[\"A marriage license and a marriage certificat...</td>\n",
       "      <td>0</td>\n",
       "      <td>1</td>\n",
       "      <td>0</td>\n",
       "    </tr>\n",
       "    <tr>\n",
       "      <th>2</th>\n",
       "      <td>65089</td>\n",
       "      <td>[\"explain function calling. how would you call...</td>\n",
       "      <td>[\"Function calling is the process of invoking ...</td>\n",
       "      <td>[\"Function calling is the process of invoking ...</td>\n",
       "      <td>0</td>\n",
       "      <td>0</td>\n",
       "      <td>1</td>\n",
       "    </tr>\n",
       "    <tr>\n",
       "      <th>3</th>\n",
       "      <td>96401</td>\n",
       "      <td>[\"How can I create a test set for a very rare ...</td>\n",
       "      <td>[\"Creating a test set for a very rare category...</td>\n",
       "      <td>[\"When building a classifier for a very rare c...</td>\n",
       "      <td>1</td>\n",
       "      <td>0</td>\n",
       "      <td>0</td>\n",
       "    </tr>\n",
       "    <tr>\n",
       "      <th>4</th>\n",
       "      <td>198779</td>\n",
       "      <td>[\"What is the best way to travel from Tel-Aviv...</td>\n",
       "      <td>[\"The best way to travel from Tel Aviv to Jeru...</td>\n",
       "      <td>[\"The best way to travel from Tel-Aviv to Jeru...</td>\n",
       "      <td>0</td>\n",
       "      <td>1</td>\n",
       "      <td>0</td>\n",
       "    </tr>\n",
       "  </tbody>\n",
       "</table>\n",
       "</div>"
      ],
      "text/plain": [
       "       id                                             prompt  \\\n",
       "0   30192  [\"Is it morally right to try to have a certain...   \n",
       "1   53567  [\"What is the difference between marriage lice...   \n",
       "2   65089  [\"explain function calling. how would you call...   \n",
       "3   96401  [\"How can I create a test set for a very rare ...   \n",
       "4  198779  [\"What is the best way to travel from Tel-Aviv...   \n",
       "\n",
       "                                          response_a  \\\n",
       "0  [\"The question of whether it is morally right ...   \n",
       "1  [\"A marriage license is a legal document that ...   \n",
       "2  [\"Function calling is the process of invoking ...   \n",
       "3  [\"Creating a test set for a very rare category...   \n",
       "4  [\"The best way to travel from Tel Aviv to Jeru...   \n",
       "\n",
       "                                          response_b  winner_model_a  \\\n",
       "0  [\"As an AI, I don't have personal beliefs or o...               1   \n",
       "1  [\"A marriage license and a marriage certificat...               0   \n",
       "2  [\"Function calling is the process of invoking ...               0   \n",
       "3  [\"When building a classifier for a very rare c...               1   \n",
       "4  [\"The best way to travel from Tel-Aviv to Jeru...               0   \n",
       "\n",
       "   winner_model_b  winner_tie  \n",
       "0               0           0  \n",
       "1               1           0  \n",
       "2               0           1  \n",
       "3               0           0  \n",
       "4               1           0  "
      ]
     },
     "execution_count": 3,
     "metadata": {},
     "output_type": "execute_result"
    }
   ],
   "source": [
    "train_data = train_data.drop(['model_a', \"model_b\"], axis=1)\n",
    "train_data.head()"
   ]
  },
  {
   "cell_type": "code",
   "execution_count": 4,
   "id": "090db937",
   "metadata": {},
   "outputs": [
    {
     "name": "stdout",
     "output_type": "stream",
     "text": [
      "id                0\n",
      "prompt            0\n",
      "response_a        0\n",
      "response_b        0\n",
      "winner_model_a    0\n",
      "winner_model_b    0\n",
      "winner_tie        0\n",
      "dtype: int64\n"
     ]
    }
   ],
   "source": [
    "# hitung banyaknya na\n",
    "print(train_data.isna().sum())"
   ]
  },
  {
   "cell_type": "code",
   "execution_count": 5,
   "id": "ed8e9bd2",
   "metadata": {},
   "outputs": [
    {
     "name": "stdout",
     "output_type": "stream",
     "text": [
      "The question of whether it is morally right to aim for a certain percentage of females in managerial positions is a complex ethical issue that involves considerations of fairness, equality, diversity, and discrimination.\n",
      "\n",
      "Here are some arguments in favor of and against such policies:\n",
      "\n",
      "**Arguments in favor:**\n",
      "\n",
      "1. **Correcting Historical Inequities:** Women have historically been underrepresented in leadership roles due to various cultural, institutional, and social barriers. Aiming for a specific percentage can be seen as a corrective measure to address past and ongoing discrimination.\n",
      "\n",
      "2. **Promoting Diversity:** Diverse leadership teams can enhance decision-making and represent a broader range of perspectives. This can lead to better outcomes for organizations and society as a whole.\n",
      "\n",
      "3. **Equality of Opportunity:** Setting targets for female representation in management can help ensure that women have equal opportunities to advance in their careers.\n",
      "\n",
      "4. **Role Modeling:** Increased visibility of female leaders can inspire and encourage other women and girls to pursue leadership roles.\n",
      "\n",
      "**Arguments against:**\n",
      "\n",
      "1. **Reverse Discrimination:** Setting a quota for female representation might lead to the perception or reality of reverse discrimination, where men might be overlooked for positions despite being qualified, simply to meet the gender target.\n",
      "\n",
      "2. **Meritocracy Concerns:** Critics argue that employment and promotion should be based solely on merit and qualifications, not gender. They fear that quotas could compromise the quality of leadership if less qualified individuals are promoted to meet gender targets.\n",
      "\n",
      "3. **Tokenism:** There is a risk that women appointed to meet quotas might be seen as \"tokens,\" undermining their legitimacy and potentially leading to resentment among colleagues.\n",
      "\n",
      "4. **Oversimplification of Diversity:** Focusing only on gender might overlook other important aspects of diversity, such as race, ethnicity, socioeconomic background, or sexual orientation.\n",
      "\n",
      "Ultimately, the morality of aiming for a certain percentage of females in managerial positions depends on one's ethical framework and the context in which such policies are implemented. Proponents of gender diversity targets often argue that these measures are necessary as a transitional mechanism to create a level playing field, while opponents may argue for a \"color-blind\" or \"gender-blind\" approach to hiring and promotions.\n",
      "\n",
      "Organizations and societies must carefully consider the implications of these strategies and strive to implement policies that promote fairness and equality while minimizing negative consequences. It is also important to address the root causes of gender inequality, such as unconscious bias, work-life balance challenges, and lack of supportive policies, to create an environment where everyone has the opportunity to succeed based on their capabilities and contributions.\n",
      "<class 'str'>\n"
     ]
    }
   ],
   "source": [
    "# baca convert ke python sehingga [ ] bisa dihapus\n",
    "import ast\n",
    "s = train_data['response_a'][0]\n",
    "obj = ast.literal_eval(s)\n",
    "\n",
    "print(obj[0])\n",
    "print(type(obj[0]))\n"
   ]
  },
  {
   "cell_type": "code",
   "execution_count": 6,
   "id": "f88b09ed",
   "metadata": {},
   "outputs": [],
   "source": [
    "def safe_eval(x):\n",
    "    if not isinstance(x, str):\n",
    "        return x  # skip non-string values\n",
    "    \n",
    "    x = x.strip()\n",
    "    # Ensure it looks like a list, e.g. starts with '[' and ends with ']'\n",
    "    if x.startswith('[') and x.endswith(']'):\n",
    "        try:\n",
    "            val = ast.literal_eval(x)\n",
    "            if isinstance(val, list) and len(val) > 0:\n",
    "                return val[0]\n",
    "        except (ValueError, SyntaxError):\n",
    "            pass\n",
    "    return x  # fallback: return as-is if not valid\n",
    "\n",
    "train_data['response_a'] = train_data['response_a'].apply(safe_eval)\n",
    "train_data['response_b'] = train_data['response_b'].apply(safe_eval)\n",
    "train_data['prompt'] = train_data['prompt'].apply(safe_eval)\n",
    "\n"
   ]
  },
  {
   "cell_type": "code",
   "execution_count": 7,
   "id": "2340dd51",
   "metadata": {},
   "outputs": [
    {
     "name": "stdout",
     "output_type": "stream",
     "text": [
      "Train data size: 51729\n",
      "Validation data size: 5748\n"
     ]
    }
   ],
   "source": [
    "split_size = int(0.9 * len(train_data))\n",
    "validation_data = train_data[split_size:]\n",
    "train_data = train_data[:split_size]\n",
    "print(f\"Train data size: {len(train_data)}\")\n",
    "print(f\"Validation data size: {len(validation_data)}\")"
   ]
  },
  {
   "cell_type": "code",
   "execution_count": 8,
   "id": "76e684e7",
   "metadata": {},
   "outputs": [
    {
     "data": {
      "text/html": [
       "<div>\n",
       "<style scoped>\n",
       "    .dataframe tbody tr th:only-of-type {\n",
       "        vertical-align: middle;\n",
       "    }\n",
       "\n",
       "    .dataframe tbody tr th {\n",
       "        vertical-align: top;\n",
       "    }\n",
       "\n",
       "    .dataframe thead th {\n",
       "        text-align: right;\n",
       "    }\n",
       "</style>\n",
       "<table border=\"1\" class=\"dataframe\">\n",
       "  <thead>\n",
       "    <tr style=\"text-align: right;\">\n",
       "      <th></th>\n",
       "      <th>id</th>\n",
       "      <th>prompt</th>\n",
       "      <th>response_a</th>\n",
       "      <th>response_b</th>\n",
       "      <th>winner_model_a</th>\n",
       "      <th>winner_model_b</th>\n",
       "      <th>winner_tie</th>\n",
       "    </tr>\n",
       "  </thead>\n",
       "  <tbody>\n",
       "    <tr>\n",
       "      <th>51724</th>\n",
       "      <td>3865500373</td>\n",
       "      <td>Please do a in depth analysis and share outcom...</td>\n",
       "      <td>Sigmund Freud and Stanislav Grof are two emine...</td>\n",
       "      <td>Sigmund Freud and Stanislav Grof are two figur...</td>\n",
       "      <td>1</td>\n",
       "      <td>0</td>\n",
       "      <td>0</td>\n",
       "    </tr>\n",
       "    <tr>\n",
       "      <th>51725</th>\n",
       "      <td>3865610759</td>\n",
       "      <td>You should capitalize the sentence according t...</td>\n",
       "      <td>A Giant Spider Blocks Your Path.</td>\n",
       "      <td></td>\n",
       "      <td>1</td>\n",
       "      <td>0</td>\n",
       "      <td>0</td>\n",
       "    </tr>\n",
       "    <tr>\n",
       "      <th>51726</th>\n",
       "      <td>3865660213</td>\n",
       "      <td>Summarize the different ways automatic transmi...</td>\n",
       "      <td>There are several ways that automatic transmis...</td>\n",
       "      <td>Here is a summary of the main types of automat...</td>\n",
       "      <td>0</td>\n",
       "      <td>0</td>\n",
       "      <td>1</td>\n",
       "    </tr>\n",
       "    <tr>\n",
       "      <th>51727</th>\n",
       "      <td>3865766737</td>\n",
       "      <td>Fill in the blank: The cat chased its ____ .\\n...</td>\n",
       "      <td>A. Tail\\n\\nThe correct answer is \"tail.\" The p...</td>\n",
       "      <td>The correct answer is A. Tail</td>\n",
       "      <td>0</td>\n",
       "      <td>0</td>\n",
       "      <td>1</td>\n",
       "    </tr>\n",
       "    <tr>\n",
       "      <th>51728</th>\n",
       "      <td>3865815908</td>\n",
       "      <td>Let's play a game of chess. Please only answer...</td>\n",
       "      <td>c5. Fight for the center!</td>\n",
       "      <td>1...e5 White played an aggressive opening move...</td>\n",
       "      <td>0</td>\n",
       "      <td>1</td>\n",
       "      <td>0</td>\n",
       "    </tr>\n",
       "  </tbody>\n",
       "</table>\n",
       "</div>"
      ],
      "text/plain": [
       "               id                                             prompt  \\\n",
       "51724  3865500373  Please do a in depth analysis and share outcom...   \n",
       "51725  3865610759  You should capitalize the sentence according t...   \n",
       "51726  3865660213  Summarize the different ways automatic transmi...   \n",
       "51727  3865766737  Fill in the blank: The cat chased its ____ .\\n...   \n",
       "51728  3865815908  Let's play a game of chess. Please only answer...   \n",
       "\n",
       "                                              response_a  \\\n",
       "51724  Sigmund Freud and Stanislav Grof are two emine...   \n",
       "51725                   A Giant Spider Blocks Your Path.   \n",
       "51726  There are several ways that automatic transmis...   \n",
       "51727  A. Tail\\n\\nThe correct answer is \"tail.\" The p...   \n",
       "51728                          c5. Fight for the center!   \n",
       "\n",
       "                                              response_b  winner_model_a  \\\n",
       "51724  Sigmund Freud and Stanislav Grof are two figur...               1   \n",
       "51725                                                                  1   \n",
       "51726  Here is a summary of the main types of automat...               0   \n",
       "51727                      The correct answer is A. Tail               0   \n",
       "51728  1...e5 White played an aggressive opening move...               0   \n",
       "\n",
       "       winner_model_b  winner_tie  \n",
       "51724               0           0  \n",
       "51725               0           0  \n",
       "51726               0           1  \n",
       "51727               0           1  \n",
       "51728               1           0  "
      ]
     },
     "execution_count": 8,
     "metadata": {},
     "output_type": "execute_result"
    }
   ],
   "source": [
    "train_data.tail()"
   ]
  },
  {
   "cell_type": "code",
   "execution_count": 9,
   "id": "dfe25117",
   "metadata": {},
   "outputs": [
    {
     "data": {
      "text/html": [
       "<div>\n",
       "<style scoped>\n",
       "    .dataframe tbody tr th:only-of-type {\n",
       "        vertical-align: middle;\n",
       "    }\n",
       "\n",
       "    .dataframe tbody tr th {\n",
       "        vertical-align: top;\n",
       "    }\n",
       "\n",
       "    .dataframe thead th {\n",
       "        text-align: right;\n",
       "    }\n",
       "</style>\n",
       "<table border=\"1\" class=\"dataframe\">\n",
       "  <thead>\n",
       "    <tr style=\"text-align: right;\">\n",
       "      <th></th>\n",
       "      <th>id</th>\n",
       "      <th>prompt</th>\n",
       "      <th>response_a</th>\n",
       "      <th>response_b</th>\n",
       "      <th>winner_model_a</th>\n",
       "      <th>winner_model_b</th>\n",
       "      <th>winner_tie</th>\n",
       "    </tr>\n",
       "  </thead>\n",
       "  <tbody>\n",
       "    <tr>\n",
       "      <th>51729</th>\n",
       "      <td>3865915001</td>\n",
       "      <td>who created the blue led and why was it so dif...</td>\n",
       "      <td>The blue LED was first invented by Japanese ch...</td>\n",
       "      <td>The blue LED (light-emitting diode) was invent...</td>\n",
       "      <td>1</td>\n",
       "      <td>0</td>\n",
       "      <td>0</td>\n",
       "    </tr>\n",
       "    <tr>\n",
       "      <th>51730</th>\n",
       "      <td>3866013973</td>\n",
       "      <td>If you overtake the person in 2nd place in the...</td>\n",
       "      <td>Hello! I'm happy to help you with your questio...</td>\n",
       "      <td>If you overtake the person in 2nd place in the...</td>\n",
       "      <td>0</td>\n",
       "      <td>1</td>\n",
       "      <td>0</td>\n",
       "    </tr>\n",
       "    <tr>\n",
       "      <th>51731</th>\n",
       "      <td>3866095506</td>\n",
       "      <td>In which country can you find the largest wate...</td>\n",
       "      <td>The largest waterfall by volume of water flowi...</td>\n",
       "      <td>The largest waterfall by volume of water flowi...</td>\n",
       "      <td>1</td>\n",
       "      <td>0</td>\n",
       "      <td>0</td>\n",
       "    </tr>\n",
       "    <tr>\n",
       "      <th>51732</th>\n",
       "      <td>3866185257</td>\n",
       "      <td>I have a bitmask and a value.   I want to scat...</td>\n",
       "      <td>You're correct that x86 processors have instru...</td>\n",
       "      <td>Yes, you can achieve this in C using bitwise o...</td>\n",
       "      <td>0</td>\n",
       "      <td>1</td>\n",
       "      <td>0</td>\n",
       "    </tr>\n",
       "    <tr>\n",
       "      <th>51733</th>\n",
       "      <td>3866194691</td>\n",
       "      <td>Bro it to the max</td>\n",
       "      <td>What do you mean by \"Bro it to the max\"? Do yo...</td>\n",
       "      <td>\"Bro it to the max\" is a slang phrase that mea...</td>\n",
       "      <td>0</td>\n",
       "      <td>1</td>\n",
       "      <td>0</td>\n",
       "    </tr>\n",
       "  </tbody>\n",
       "</table>\n",
       "</div>"
      ],
      "text/plain": [
       "               id                                             prompt  \\\n",
       "51729  3865915001  who created the blue led and why was it so dif...   \n",
       "51730  3866013973  If you overtake the person in 2nd place in the...   \n",
       "51731  3866095506  In which country can you find the largest wate...   \n",
       "51732  3866185257  I have a bitmask and a value.   I want to scat...   \n",
       "51733  3866194691                                  Bro it to the max   \n",
       "\n",
       "                                              response_a  \\\n",
       "51729  The blue LED was first invented by Japanese ch...   \n",
       "51730  Hello! I'm happy to help you with your questio...   \n",
       "51731  The largest waterfall by volume of water flowi...   \n",
       "51732  You're correct that x86 processors have instru...   \n",
       "51733  What do you mean by \"Bro it to the max\"? Do yo...   \n",
       "\n",
       "                                              response_b  winner_model_a  \\\n",
       "51729  The blue LED (light-emitting diode) was invent...               1   \n",
       "51730  If you overtake the person in 2nd place in the...               0   \n",
       "51731  The largest waterfall by volume of water flowi...               1   \n",
       "51732  Yes, you can achieve this in C using bitwise o...               0   \n",
       "51733  \"Bro it to the max\" is a slang phrase that mea...               0   \n",
       "\n",
       "       winner_model_b  winner_tie  \n",
       "51729               0           0  \n",
       "51730               1           0  \n",
       "51731               0           0  \n",
       "51732               1           0  \n",
       "51733               1           0  "
      ]
     },
     "execution_count": 9,
     "metadata": {},
     "output_type": "execute_result"
    }
   ],
   "source": [
    "validation_data.head()"
   ]
  },
  {
   "cell_type": "code",
   "execution_count": 10,
   "id": "6b35674f",
   "metadata": {},
   "outputs": [
    {
     "data": {
      "text/plain": [
       "'The question of whether it is morally right to aim for a certain percentage of females in managerial positions is a complex ethical issue that involves considerations of fairness, equality, diversity, and discrimination.\\n\\nHere are some arguments in favor of and against such policies:\\n\\n**Arguments in favor:**\\n\\n1. **Correcting Historical Inequities:** Women have historically been underrepresented in leadership roles due to various cultural, institutional, and social barriers. Aiming for a specific percentage can be seen as a corrective measure to address past and ongoing discrimination.\\n\\n2. **Promoting Diversity:** Diverse leadership teams can enhance decision-making and represent a broader range of perspectives. This can lead to better outcomes for organizations and society as a whole.\\n\\n3. **Equality of Opportunity:** Setting targets for female representation in management can help ensure that women have equal opportunities to advance in their careers.\\n\\n4. **Role Modeling:** Increased visibility of female leaders can inspire and encourage other women and girls to pursue leadership roles.\\n\\n**Arguments against:**\\n\\n1. **Reverse Discrimination:** Setting a quota for female representation might lead to the perception or reality of reverse discrimination, where men might be overlooked for positions despite being qualified, simply to meet the gender target.\\n\\n2. **Meritocracy Concerns:** Critics argue that employment and promotion should be based solely on merit and qualifications, not gender. They fear that quotas could compromise the quality of leadership if less qualified individuals are promoted to meet gender targets.\\n\\n3. **Tokenism:** There is a risk that women appointed to meet quotas might be seen as \"tokens,\" undermining their legitimacy and potentially leading to resentment among colleagues.\\n\\n4. **Oversimplification of Diversity:** Focusing only on gender might overlook other important aspects of diversity, such as race, ethnicity, socioeconomic background, or sexual orientation.\\n\\nUltimately, the morality of aiming for a certain percentage of females in managerial positions depends on one\\'s ethical framework and the context in which such policies are implemented. Proponents of gender diversity targets often argue that these measures are necessary as a transitional mechanism to create a level playing field, while opponents may argue for a \"color-blind\" or \"gender-blind\" approach to hiring and promotions.\\n\\nOrganizations and societies must carefully consider the implications of these strategies and strive to implement policies that promote fairness and equality while minimizing negative consequences. It is also important to address the root causes of gender inequality, such as unconscious bias, work-life balance challenges, and lack of supportive policies, to create an environment where everyone has the opportunity to succeed based on their capabilities and contributions.'"
      ]
     },
     "execution_count": 10,
     "metadata": {},
     "output_type": "execute_result"
    }
   ],
   "source": [
    "train_data.iloc[0]['response_a']"
   ]
  },
  {
   "cell_type": "markdown",
   "id": "7a4e2551",
   "metadata": {},
   "source": [
    "### Transformer"
   ]
  },
  {
   "cell_type": "code",
   "execution_count": 11,
   "id": "e28e9fe8",
   "metadata": {},
   "outputs": [],
   "source": [
    "config = {\n",
    "    'model_name': 'google-bert/bert-base-uncased',\n",
    "    'num_labels': 3,\n",
    "    'max_length': 512,\n",
    "    'batch_size': 16,\n",
    "    'learning_rate': 2e-5,\n",
    "    'num_epochs': 1000,\n",
    "    'output_dir': './model_output',\n",
    "    'device': 'cuda',\n",
    "    'data_path': 'data/train.csv',\n",
    "    'data_size': len(train_data),\n",
    "    'cleaned_data array':False\n",
    "}"
   ]
  },
  {
   "cell_type": "code",
   "execution_count": 12,
   "id": "b72acc8d",
   "metadata": {},
   "outputs": [
    {
     "name": "stderr",
     "output_type": "stream",
     "text": [
      "/home/fachri/LLMClassificationFinetuning/.venv/lib/python3.10/site-packages/tqdm/auto.py:21: TqdmWarning: IProgress not found. Please update jupyter and ipywidgets. See https://ipywidgets.readthedocs.io/en/stable/user_install.html\n",
      "  from .autonotebook import tqdm as notebook_tqdm\n"
     ]
    }
   ],
   "source": [
    "import torch\n",
    "import torch.nn as nn\n",
    "import torch.optim as optim\n",
    "from torch.utils.data import DataLoader\n",
    "from model import ClassificationModel\n",
    "from data import DataPreparation\n",
    "\n",
    "\n",
    "\n",
    "torch.backends.cudnn.benchmark = True\n",
    "device = torch.device(\"cuda:0\")\n",
    "model = ClassificationModel(backbone_model_name=config['model_name']).float().to(device)\n",
    "optima = optim.AdamW(model.parameters(), lr=config['learning_rate'])\n",
    "\n",
    "train_set = DataPreparation(df=train_data, tokenizer_name=config['model_name'])\n",
    "val_set = DataPreparation(df=validation_data, tokenizer_name=config['model_name'])\n",
    "dataloader_train = DataLoader(train_set, batch_size=config['batch_size'],\n",
    "                                  shuffle=True, num_workers=4, pin_memory=True)\n",
    "dataloader_val = DataLoader(val_set, batch_size=config['batch_size'], \n",
    "                                shuffle=False, num_workers=4, pin_memory=True)\n",
    "criterion = nn.CrossEntropyLoss()"
   ]
  },
  {
   "cell_type": "code",
   "execution_count": null,
   "id": "9a38d1c8",
   "metadata": {},
   "outputs": [],
   "source": [
    "import mlflow\n",
    "from train import train\n",
    "from train import validate\n",
    "import os\n",
    "os.makedirs(config['output_dir'], exist_ok=True)\n",
    "mlflow.set_tracking_uri(\"http://127.0.0.1:5000\")\n",
    "mlflow.set_experiment(\"LLM Classification Fine-tuning\")\n",
    "\n",
    "with mlflow.start_run():\n",
    "    # Log hyperparameters once\n",
    "    mlflow.log_params(config)\n",
    "    min_loss = float('inf')\n",
    "    for epoch in range(config['num_epochs']):\n",
    "        print(f\"Epoch {epoch+1}/{config['num_epochs']}\")\n",
    "\n",
    "        total_loss = train(dataloader_train, model, optima, criterion, config)\n",
    "\n",
    "        val_loss = validate(dataloader_val, model, criterion, config)\n",
    "\n",
    "        # Log loss to MLflow\n",
    "        mlflow.log_metric(\"loss\", total_loss, step=epoch+1)\n",
    "        mlflow.log_metric(\"val_loss\", val_loss, step=epoch+1)\n",
    "\n",
    "        # Save model locally first\n",
    "        model_path = f\"{config['output_dir']}/best{val_loss:.4f}_epoch{epoch+1}\"\n",
    "        if val_loss < min_loss:\n",
    "            torch.save(model.state_dict(), f\"{model_path}.pth\")\n",
    "            mlflow.pytorch.log_model(model, name=f'best-{epoch+1}', step=epoch+1)\n",
    "            min_loss = val_loss\n",
    "\n",
    "        \n",
    "\n",
    "    print(f\"✅ Model for epoch {epoch+1} saved and logged to MLflow.\")\n"
   ]
  },
  {
   "cell_type": "code",
   "execution_count": 14,
   "id": "97434f22",
   "metadata": {},
   "outputs": [],
   "source": [
    "test_data['response_a'] = test_data['response_a'].apply(safe_eval)\n",
    "test_data['response_b'] = test_data['response_b'].apply(safe_eval)\n",
    "test_data['prompt'] = test_data['prompt'].apply(safe_eval)"
   ]
  },
  {
   "cell_type": "code",
   "execution_count": 15,
   "id": "043a9191",
   "metadata": {},
   "outputs": [
    {
     "name": "stderr",
     "output_type": "stream",
     "text": [
      "Downloading artifacts: 100%|██████████| 6/6 [02:17<00:00, 23.00s/it] \n"
     ]
    }
   ],
   "source": [
    "import mlflow.pytorch\n",
    "import mlflow\n",
    "from train import test\n",
    "mlflow.set_tracking_uri(\"http://127.0.0.1:5000\")\n",
    "model = mlflow.pytorch.load_model(\"models:/LLM Classifcation Model/1\")"
   ]
  },
  {
   "cell_type": "code",
   "execution_count": 18,
   "id": "4f618757",
   "metadata": {},
   "outputs": [
    {
     "data": {
      "text/html": [
       "<div>\n",
       "<style scoped>\n",
       "    .dataframe tbody tr th:only-of-type {\n",
       "        vertical-align: middle;\n",
       "    }\n",
       "\n",
       "    .dataframe tbody tr th {\n",
       "        vertical-align: top;\n",
       "    }\n",
       "\n",
       "    .dataframe thead th {\n",
       "        text-align: right;\n",
       "    }\n",
       "</style>\n",
       "<table border=\"1\" class=\"dataframe\">\n",
       "  <thead>\n",
       "    <tr style=\"text-align: right;\">\n",
       "      <th></th>\n",
       "      <th>id</th>\n",
       "      <th>prompt</th>\n",
       "      <th>response_a</th>\n",
       "      <th>response_b</th>\n",
       "    </tr>\n",
       "  </thead>\n",
       "  <tbody>\n",
       "    <tr>\n",
       "      <th>0</th>\n",
       "      <td>136060</td>\n",
       "      <td>I have three oranges today, I ate an orange ye...</td>\n",
       "      <td>You have two oranges today.</td>\n",
       "      <td>You still have three oranges. Eating an orange...</td>\n",
       "    </tr>\n",
       "    <tr>\n",
       "      <th>1</th>\n",
       "      <td>211333</td>\n",
       "      <td>You are a mediator in a heated political debat...</td>\n",
       "      <td>Thank you for sharing the details of the situa...</td>\n",
       "      <td>Mr Reddy and Ms Blue both have valid points in...</td>\n",
       "    </tr>\n",
       "    <tr>\n",
       "      <th>2</th>\n",
       "      <td>1233961</td>\n",
       "      <td>How to initialize the classification head when...</td>\n",
       "      <td>When you want to initialize the classification...</td>\n",
       "      <td>To initialize the classification head when per...</td>\n",
       "    </tr>\n",
       "  </tbody>\n",
       "</table>\n",
       "</div>"
      ],
      "text/plain": [
       "        id                                             prompt  \\\n",
       "0   136060  I have three oranges today, I ate an orange ye...   \n",
       "1   211333  You are a mediator in a heated political debat...   \n",
       "2  1233961  How to initialize the classification head when...   \n",
       "\n",
       "                                          response_a  \\\n",
       "0                        You have two oranges today.   \n",
       "1  Thank you for sharing the details of the situa...   \n",
       "2  When you want to initialize the classification...   \n",
       "\n",
       "                                          response_b  \n",
       "0  You still have three oranges. Eating an orange...  \n",
       "1  Mr Reddy and Ms Blue both have valid points in...  \n",
       "2  To initialize the classification head when per...  "
      ]
     },
     "execution_count": 18,
     "metadata": {},
     "output_type": "execute_result"
    }
   ],
   "source": [
    "test_data"
   ]
  },
  {
   "cell_type": "code",
   "execution_count": 16,
   "id": "c4c2b4c9",
   "metadata": {},
   "outputs": [
    {
     "name": "stderr",
     "output_type": "stream",
     "text": [
      "Testing:   0%|          | 0/1 [00:00<?, ?it/s]"
     ]
    },
    {
     "name": "stdout",
     "output_type": "stream",
     "text": [
      "⚠️ Error at index 0: 'winner_model_a'\n",
      "   prompt: I have three oranges today, I ate an orange yesterday. How many oranges do I have?\n",
      "   response_a: You have two oranges today.\n",
      "   response_b: You still have three oranges. Eating an orange yesterday does not affect the number of oranges you have today.\n",
      "⚠️ Error at index 1: 'winner_model_a'\n",
      "   prompt: You are a mediator in a heated political debate between two opposing parties. Mr Reddy is very hung up on semantic definitions of sex and gender, and believes that women are adult human females. Meanwhile Ms Blue is extremely fluid with definitions and does not care about truth. He (Ms blue uses he\\/him pronouns) insists that anybody can be any gender, gametes don't mean anything, and that men can get pregnant. You, Mr Goddy are tasked with helping them both find a middle ground.\n",
      "   response_a: Thank you for sharing the details of the situation. As a mediator, I understand the importance of finding a middle ground that both parties can agree upon.\n",
      "\n",
      "It is important to recognize that language and definitions can be complex and can vary depending on cultural and societal norms. At the same time, it is also important to acknowledge the biological differences between males and females.\n",
      "\n",
      "One possible approach to finding a middle ground could be to focus on respecting individuals' self-identification and autonomy while also acknowledging the biological differences between males and females. This could involve using inclusive language that reflects individuals' gender identities while also recognizing the importance of biological sex in certain contexts, such as medical treatment and reproductive health.\n",
      "\n",
      "It may also be helpful to explore ways to create a more inclusive society where individuals of all gender identities are valued and respected. This could involve promoting education and awareness about gender diversity and creating policies and practices that support individuals' gender identities and expression.\n",
      "\n",
      "Ultimately, the goal of mediation is to find a solution that meets the needs and concerns of both parties. By focusing on mutual respect, open communication, and a willingness to find common ground, it is possible to reach a resolution that allows both parties to move forward in a positive and productive way.\n",
      "   response_b: Mr Reddy and Ms Blue both have valid points in their arguments. On one hand, Mr Reddy is correct that women are adult human females, as defined by their biological and physical characteristics. However, Ms Blue is right that gender is a more fluid concept and that people can identify with any gender they choose. A compromise could be that gender is defined by an individual's self-identification, while sex is defined by their biological characteristics.\n",
      "⚠️ Error at index 2: 'winner_model_a'\n",
      "   prompt: How to initialize the classification head when I do transfer learning. For example, I have a pre-trained vision transformer on ImageNet, and now I want to finetune it on StanfordCars\n",
      "   response_a: When you want to initialize the classification head for transfer learning, you can follow these steps:\n",
      "\n",
      "  1. Load the pre-trained model: First, load the pre-trained vision transformer model on ImageNet. You can use popular deep learning libraries like PyTorch or TensorFlow to load the model.\n",
      "  2. Freeze the pre-trained layers: Next, you need to freeze the pre-trained layers of the model so that they don't get updated during the training process. This is because the pre-trained layers have learned useful features that can be reused for the new task.\n",
      "  3. Add a new classification head: Now, you need to add a new classification head to the model. The classification head is responsible for outputting the predicted class for a given input image. The size of the classification head depends on the number of classes in the new task. For example, if you are working on the StanfordCars dataset, which has 196 classes, you would need a classification head with 196 output neurons.\n",
      "  4. Initialize the classification head: Initialize the weights of the classification head randomly or using pre-trained weights. This is important because the initial weights can have a significant impact on the performance of the model.\n",
      "  5. Train the model: Finally, you can train the model on the new task using your labeled data. During training, only the weights of the classification head will be updated, while the weights of the frozen pre-trained layers will remain unchanged. This allows the model to learn task-specific features while leveraging the pre-trained features.\n",
      "\n",
      "Note that there are different ways to initialize the classification head, such as using Xavier initialization, Kaiming initialization, or He initialization. You can choose the initialization method that works best for your specific task and model architecture.\n",
      "   response_b: To initialize the classification head when performing transfer learning, follow these steps:\n",
      "\n",
      "1. Load the pre-trained vision transformer model that was trained on ImageNet.\n",
      "2. Replace the existing classification head with a new one suitable for the StanfordCars dataset.\n",
      "3. Initialize the weights of the new classification head with random values or pre-trained weights if available.\n",
      "4. Freeze the weights of the vision transformer backbone to prevent them from being updated during training.\n",
      "5. Train the model on the StanfordCars dataset, fine-tuning the classification head while keeping the backbone frozen.\n",
      "\n",
      "Here's an example implementation in Python using PyTorch:\n",
      "\n",
      "```python\n",
      "import torch\n",
      "import torch.nn as nn\n",
      "import torchvision.models as models\n",
      "\n",
      "# Step 1: Load pre-trained vision transformer model\n",
      "vision_transformer = models.vit_base_patch16_224(pretrained=True)\n",
      "\n",
      "# Step 2: Replace classification head\n",
      "num_classes = 196  # Number of classes in StanfordCars dataset\n",
      "vision_transformer.head = nn.Linear(vision_transformer.head.in_features, num_classes)\n",
      "\n",
      "# Step 3: Initialize weights of new classification head\n",
      "nn.init.xavier_uniform_(vision_transformer.head.weight)\n",
      "nn.init.constant_(vision_transformer.head.bias, 0)\n",
      "\n",
      "# Step 4: Freeze the weights of the backbone\n",
      "for param in vision_transformer.parameters():\n",
      "    param.requires_grad = False\n",
      "\n",
      "# Step 5: Train the model on StanfordCars dataset\n",
      "# ...\n",
      "```\n",
      "\n",
      "In this example, we load the pre-trained vision transformer model using `torchvision.models.vit_base_patch16_224`. We then replace the `head` (classification head) of the model with a new linear layer (`nn.Linear`) that has the appropriate number of output classes for the StanfordCars dataset.\n",
      "\n",
      "After replacing the classification head, we initialize its weights using Xavier initialization (`nn.init.xavier_uniform_`) and set its biases to zero (`nn.init.constant_`).\n",
      "\n",
      "Finally, we freeze the weights of the vision transformer backbone by setting `requires_grad=False` for all parameters. This ensures that only the weights of the classification head will be updated during training on the StanfordCars dataset.\n"
     ]
    },
    {
     "name": "stderr",
     "output_type": "stream",
     "text": [
      "Testing: 100%|██████████| 1/1 [00:00<00:00,  2.84it/s]"
     ]
    },
    {
     "name": "stdout",
     "output_type": "stream",
     "text": [
      "tensor([2, 2, 2])\n"
     ]
    },
    {
     "name": "stderr",
     "output_type": "stream",
     "text": [
      "\n",
      "/home/fachri/LLMClassificationFinetuning/train.py:112: UserWarning: Creating a tensor from a list of numpy.ndarrays is extremely slow. Please consider converting the list to a single numpy.ndarray with numpy.array() before converting to a tensor. (Triggered internally at /pytorch/torch/csrc/utils/tensor_new.cpp:253.)\n",
      "  all_labels = torch.tensor(all_labels)\n"
     ]
    }
   ],
   "source": [
    "from train import test\n",
    "from torch.utils.data import DataLoader\n",
    "from data import DataPreparation\n",
    "test_set = DataPreparation(df=test_data, tokenizer_name=config['model_name'])\n",
    "dataloader_test = DataLoader(test_set, batch_size=config['batch_size'], \n",
    "                                shuffle=False, num_workers=4, pin_memory=True)\n",
    "all_preds, all_labels, outputs = test(dataloader_test, model, config)\n",
    "print(all_preds)"
   ]
  },
  {
   "cell_type": "code",
   "execution_count": null,
   "id": "06041be2",
   "metadata": {},
   "outputs": [
    {
     "name": "stdout",
     "output_type": "stream",
     "text": [
      "tensor([[0., 0., 1.],\n",
      "        [0., 0., 1.],\n",
      "        [0., 0., 1.]])\n"
     ]
    }
   ],
   "source": [
    "print(all_preds)"
   ]
  },
  {
   "cell_type": "code",
   "execution_count": 28,
   "id": "136fad9d",
   "metadata": {},
   "outputs": [
    {
     "name": "stdout",
     "output_type": "stream",
     "text": [
      "tensor([2, 2, 2])\n",
      "[[2]\n",
      " [2]\n",
      " [2]]\n",
      "[[0. 0. 1.]\n",
      " [0. 0. 1.]\n",
      " [0. 0. 1.]]\n",
      "        id                                             prompt  \\\n",
      "0   136060  I have three oranges today, I ate an orange ye...   \n",
      "1   211333  You are a mediator in a heated political debat...   \n",
      "2  1233961  How to initialize the classification head when...   \n",
      "\n",
      "                                          response_a  \\\n",
      "0                        You have two oranges today.   \n",
      "1  Thank you for sharing the details of the situa...   \n",
      "2  When you want to initialize the classification...   \n",
      "\n",
      "                                          response_b  winner_model_a  \\\n",
      "0  You still have three oranges. Eating an orange...             0.0   \n",
      "1  Mr Reddy and Ms Blue both have valid points in...             0.0   \n",
      "2  To initialize the classification head when per...             0.0   \n",
      "\n",
      "   winner_model_b  winner_tie  \n",
      "0             0.0         1.0  \n",
      "1             0.0         1.0  \n",
      "2             0.0         1.0  \n"
     ]
    },
    {
     "name": "stderr",
     "output_type": "stream",
     "text": [
      "/tmp/ipykernel_1526033/3779118316.py:9: DeprecationWarning: __array__ implementation doesn't accept a copy keyword, so passing copy=False failed. __array__ must implement 'dtype' and 'copy' keyword arguments. To learn more, see the migration guide https://numpy.org/devdocs/numpy_2_0_migration_guide.html#adapting-to-changes-in-the-copy-keyword\n",
      "  labels_array = np.array(labels).reshape(-1, 1)\n"
     ]
    }
   ],
   "source": [
    "import pandas as pd\n",
    "from sklearn.preprocessing import OneHotEncoder\n",
    "import numpy as np\n",
    "\n",
    "# Data awal\n",
    "labels = all_preds\n",
    "print(labels)\n",
    "# Convert ke array 2D (karena encoder butuh 2D)\n",
    "labels_array = np.array(labels).reshape(-1, 1)\n",
    "print(labels_array)\n",
    "# One-hot encoding\n",
    "# Misal total kelas ada 3: 0, 1, 2\n",
    "num_classes = 3\n",
    "encoder = OneHotEncoder(categories=[np.arange(num_classes)], sparse_output=False)\n",
    "\n",
    "one_hot = encoder.fit_transform(labels_array)\n",
    "print(one_hot)\n",
    "# Buat dataframe\n",
    "df_onehot = pd.DataFrame(one_hot, columns=[\"winner_model_a\", \"winner_model_b\", \"winner_tie\"])\n",
    "\n",
    "# Gabungkan dengan tabel asli (contoh)\n",
    "df_combined = pd.concat([test_data, df_onehot], axis=1)\n",
    "\n",
    "print(df_combined)\n"
   ]
  },
  {
   "cell_type": "code",
   "execution_count": 30,
   "id": "e56cfde7",
   "metadata": {},
   "outputs": [],
   "source": [
    "df_combined.drop(['prompt', 'response_a', 'response_b'], axis=1, inplace=True)"
   ]
  },
  {
   "cell_type": "code",
   "execution_count": 32,
   "id": "5ceb185f",
   "metadata": {},
   "outputs": [],
   "source": [
    "df_combined.to_csv('test_results_with_onehot.csv', index=False)"
   ]
  }
 ],
 "metadata": {
  "kernelspec": {
   "display_name": "end-to-end-driving",
   "language": "python",
   "name": "python3"
  },
  "language_info": {
   "codemirror_mode": {
    "name": "ipython",
    "version": 3
   },
   "file_extension": ".py",
   "mimetype": "text/x-python",
   "name": "python",
   "nbconvert_exporter": "python",
   "pygments_lexer": "ipython3",
   "version": "3.10.12"
  }
 },
 "nbformat": 4,
 "nbformat_minor": 5
}
